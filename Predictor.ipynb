{
 "cells": [
  {
   "cell_type": "code",
   "execution_count": 41,
   "metadata": {},
   "outputs": [],
   "source": [
    "import numpy as np\n",
    "import pandas as pd\n",
    "import alpha_vantage\n",
    "import time\n",
    "from alpha_vantage.timeseries import TimeSeries \n",
    "from alpha_vantage.techindicators import TechIndicators\n",
    "from config import config\n",
    "from alpha_vantage.cryptocurrencies import CryptoCurrencies"
   ]
  },
  {
   "cell_type": "code",
   "execution_count": 8,
   "metadata": {
    "scrolled": true
   },
   "outputs": [
    {
     "name": "stdout",
     "output_type": "stream",
     "text": [
      "IBM\n",
      "GOOG\n",
      "NFLX\n",
      "AMZN\n",
      "AAPL\n",
      "MSFT\n",
      "TSLA\n",
      "NVDA\n",
      "ADBE\n",
      "INTC\n"
     ]
    }
   ],
   "source": [
    "#5 calls per minute, 500 per day\n",
    "ts = TimeSeries(key=config[\"alpha_vantage\"][\"key\"], output_format = \"pandas\")\n",
    "ti = TechIndicators(key=config[\"alpha_vantage\"][\"key\"], output_format='pandas')\n",
    "\n",
    "stock_dataframes = {}\n",
    "\n",
    "for symbol in config[\"alpha_vantage\"][\"symbol\"]:\n",
    "    print(symbol)\n",
    "    time.sleep(60)\n",
    "    ts_data, ts_meta_data = ts.get_daily_adjusted(symbol, outputsize=config[\"alpha_vantage\"][\"outputsize\"])\n",
    "    \n",
    "    ema_data, ema_meta_data = ti.get_ema(symbol, interval=\"daily\")\n",
    "    rsi_data, rsi_meta_data = ti.get_rsi(symbol, interval=\"daily\")\n",
    "    time.sleep(60)\n",
    "    macd_data, macd_meta_data = ti.get_macd(symbol, interval=\"daily\")\n",
    "    bband_data, bband_meta_data = ti.get_bbands(symbol, interval=\"daily\")\n",
    "    ad_data, ad_meta_data = ti.get_ad(symbol, interval=\"daily\")\n",
    "    \n",
    "    stock_dataframes[symbol] = pd.concat([ts_data, ema_data, rsi_data, macd_data, bband_data, ad_data], axis=1, join=\"inner\")\n",
    "    stock_dataframes[symbol].drop(['1. open', '2. high', '3. low', '5. adjusted close', '7. dividend amount', '8. split coefficient'], axis=1, inplace=True)\n",
    "    stock_dataframes[symbol]"
   ]
  },
  {
   "cell_type": "code",
   "execution_count": 12,
   "metadata": {},
   "outputs": [],
   "source": [
    "for symbol in stock_dataframes:\n",
    "    stock_dataframes[symbol].to_csv('StockData/' + symbol + '.csv', index=True)"
   ]
  },
  {
   "cell_type": "code",
   "execution_count": 16,
   "metadata": {
    "scrolled": false
   },
   "outputs": [],
   "source": [
    "normalized_stock_dataframes = {}\n",
    "for symbol in stock_dataframes:\n",
    "    normalized_stock_dataframes[symbol] = (stock_dataframes[symbol]-stock_dataframes[symbol].min())/(stock_dataframes[symbol].max()-stock_dataframes[symbol].min())\n",
    "    normalized_stock_dataframes[symbol].to_csv('NormalizedStockData/' + symbol + '.csv', index=True)\n",
    "    \n"
   ]
  },
  {
   "cell_type": "code",
   "execution_count": 31,
   "metadata": {},
   "outputs": [],
   "source": [
    "train_data = {}\n",
    "test_data = {}\n",
    "for symbol in normalized_stock_dataframes:\n",
    "    train_size = int(len(normalized_stock_dataframes[symbol]) * config['data']['train_split_size'])\n",
    "    test_size = len(normalized_stock_dataframes[symbol]) - train_size\n",
    "    train_data[symbol] = normalized_stock_dataframes[symbol][test_size:-1]\n",
    "    test_data[symbol] = normalized_stock_dataframes[symbol][0:test_size]\n"
   ]
  },
  {
   "cell_type": "code",
   "execution_count": 62,
   "metadata": {},
   "outputs": [],
   "source": [
    "X_train = {}\n",
    "y_train = {}\n",
    "n_past = 30\n",
    "n_future = 10\n",
    "\n",
    "for symbol in normalized_stock_dataframes:\n",
    "    X_train[symbol] = []\n",
    "    y_train[symbol] = []\n",
    "    if normalized_stock_dataframes[symbol] is type(stock_dataframes['IBM']):\n",
    "        normalized_stock_dataframes[symbol] = normalized_stock_dataframes[symbol].to_numpy()\n",
    "    \n",
    "for symbol in normalized_stock_dataframes:\n",
    "    for i in range(n_past, len(normalized_stock_dataframes[symbol]) - n_future + 1):\n",
    "        X_train[symbol].append(normalized_stock_dataframes[symbol][i - n_past: i, 0: stock_dataframes[symbol].shape[1]])\n",
    "        y_train[symbol].append(normalized_stock_dataframes[symbol][i + n_future - 1:i + n_future, 0])\n",
    "    X_train[symbol], y_train[symbol] = np.array(X_train[symbol]), np.array(y_train[symbol])"
   ]
  },
  {
   "cell_type": "code",
   "execution_count": null,
   "metadata": {},
   "outputs": [],
   "source": []
  }
 ],
 "metadata": {
  "kernelspec": {
   "display_name": "Python 3",
   "language": "python",
   "name": "python3"
  },
  "language_info": {
   "codemirror_mode": {
    "name": "ipython",
    "version": 3
   },
   "file_extension": ".py",
   "mimetype": "text/x-python",
   "name": "python",
   "nbconvert_exporter": "python",
   "pygments_lexer": "ipython3",
   "version": "3.9.0"
  }
 },
 "nbformat": 4,
 "nbformat_minor": 4
}
