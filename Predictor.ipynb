{
 "cells": [
  {
   "cell_type": "code",
   "execution_count": 41,
   "metadata": {},
   "outputs": [],
   "source": [
    "import numpy as np\n",
    "import pandas as pd\n",
    "import alpha_vantage\n",
    "import time\n",
    "from alpha_vantage.timeseries import TimeSeries \n",
    "from alpha_vantage.techindicators import TechIndicators\n",
    "from config import config\n",
    "from alpha_vantage.cryptocurrencies import CryptoCurrencies"
   ]
  },
  {
   "cell_type": "code",
   "execution_count": 8,
   "metadata": {
    "scrolled": true
   },
   "outputs": [
    {
     "name": "stdout",
     "output_type": "stream",
     "text": [
      "IBM\n",
      "GOOG\n",
      "NFLX\n",
      "AMZN\n",
      "AAPL\n",
      "MSFT\n",
      "TSLA\n",
      "NVDA\n",
      "ADBE\n",
      "INTC\n"
     ]
    }
   ],
   "source": [
    "#5 calls per minute, 500 per day\n",
    "ts = TimeSeries(key=config[\"alpha_vantage\"][\"key\"], output_format = \"pandas\")\n",
    "ti = TechIndicators(key=config[\"alpha_vantage\"][\"key\"], output_format='pandas')\n",
    "\n",
    "stock_dataframes = {}\n",
    "\n",
    "for symbol in config[\"alpha_vantage\"][\"symbol\"]:\n",
    "    print(symbol)\n",
    "    time.sleep(60)\n",
    "    ts_data, ts_meta_data = ts.get_daily_adjusted(symbol, outputsize=config[\"alpha_vantage\"][\"outputsize\"])\n",
    "    \n",
    "    ema_data, ema_meta_data = ti.get_ema(symbol, interval=\"daily\")\n",
    "    rsi_data, rsi_meta_data = ti.get_rsi(symbol, interval=\"daily\")\n",
    "    time.sleep(60)\n",
    "    macd_data, macd_meta_data = ti.get_macd(symbol, interval=\"daily\")\n",
    "    bband_data, bband_meta_data = ti.get_bbands(symbol, interval=\"daily\")\n",
    "    ad_data, ad_meta_data = ti.get_ad(symbol, interval=\"daily\")\n",
    "    \n",
    "    stock_dataframes[symbol] = pd.concat([ts_data, ema_data, rsi_data, macd_data, bband_data, ad_data], axis=1, join=\"inner\")\n",
    "    stock_dataframes[symbol].drop(['1. open', '2. high', '3. low', '5. adjusted close', '7. dividend amount', '8. split coefficient'], axis=1, inplace=True)\n",
    "    stock_dataframes[symbol]"
   ]
  },
  {
   "cell_type": "code",
   "execution_count": 12,
   "metadata": {},
   "outputs": [],
   "source": [
    "for symbol in stock_dataframes:\n",
    "    stock_dataframes[symbol].to_csv('StockData/' + symbol + '.csv', index=True)"
   ]
  },
  {
   "cell_type": "code",
   "execution_count": 16,
   "metadata": {
    "scrolled": false
   },
   "outputs": [],
   "source": [
    "normalized_stock_dataframes = {}\n",
    "for symbol in stock_dataframes:\n",
    "    normalized_stock_dataframes[symbol] = (stock_dataframes[symbol]-stock_dataframes[symbol].min())/(stock_dataframes[symbol].max()-stock_dataframes[symbol].min())\n",
    "    normalized_stock_dataframes[symbol].to_csv('NormalizedStockData/' + symbol + '.csv', index=True)"
   ]
  },
  {
   "cell_type": "code",
   "execution_count": 31,
   "metadata": {},
   "outputs": [],
   "source": [
    "train_data = {}\n",
    "test_data = {}\n",
    "for symbol in normalized_stock_dataframes:\n",
    "    train_size = int(len(normalized_stock_dataframes[symbol]) * config['data']['train_split_size'])\n",
    "    test_size = len(normalized_stock_dataframes[symbol]) - train_size\n",
    "    train_data[symbol] = normalized_stock_dataframes[symbol][test_size:-1]\n",
    "    test_data[symbol] = normalized_stock_dataframes[symbol][0:test_size]\n"
   ]
  },
  {
   "cell_type": "code",
   "execution_count": 268,
   "metadata": {},
   "outputs": [],
   "source": [
    "X_train = {}\n",
    "y_train = {}\n",
    "X_test = {}\n",
    "y_test = {}\n",
    "\n",
    "n_past = 90\n",
    "n_future = 4\n",
    "\n",
    "for symbol in normalized_stock_dataframes:\n",
    "    X_train[symbol], y_train[symbol] = [], []\n",
    "    X_test[symbol], y_test[symbol] = [], []\n",
    "    if normalized_stock_dataframes[symbol] is type(stock_dataframes['IBM']):\n",
    "        normalized_stock_dataframes[symbol] = normalized_stock_dataframes[symbol].to_numpy()\n",
    "    \n",
    "for symbol in normalized_stock_dataframes:\n",
    "    for i in range(n_past, len(normalized_stock_dataframes[symbol]) - n_future + 1):\n",
    "        X_train[symbol].append(normalized_stock_dataframes[symbol][i - n_past: i, 0: stock_dataframes[symbol].shape[1]])\n",
    "        y_train[symbol].append(normalized_stock_dataframes[symbol][i + n_future - 1:i + n_future, 0])\n",
    "    X_train[symbol], y_train[symbol] = np.array(X_train[symbol]), np.array(y_train[symbol])"
   ]
  },
  {
   "cell_type": "code",
   "execution_count": 269,
   "metadata": {},
   "outputs": [],
   "source": [
    "from tensorflow.keras.models import Sequential\n",
    "from tensorflow.keras.layers import LSTM, Dense, Dropout, Activation\n",
    "from tensorflow.python.keras.utils.generic_utils import get_custom_objects\n",
    "from tensorflow.keras import backend as K\n",
    "import pandas as pd\n",
    "from matplotlib import pyplot as plt"
   ]
  },
  {
   "cell_type": "code",
   "execution_count": 270,
   "metadata": {},
   "outputs": [
    {
     "name": "stdout",
     "output_type": "stream",
     "text": [
      "Model: \"sequential_13\"\n",
      "_________________________________________________________________\n",
      "Layer (type)                 Output Shape              Param #   \n",
      "=================================================================\n",
      "lstm_24 (LSTM)               (None, 90, 64)            19456     \n",
      "_________________________________________________________________\n",
      "lstm_25 (LSTM)               (None, 32)                12416     \n",
      "_________________________________________________________________\n",
      "activation_11 (Activation)   (None, 32)                0         \n",
      "_________________________________________________________________\n",
      "dropout_10 (Dropout)         (None, 32)                0         \n",
      "_________________________________________________________________\n",
      "dense_10 (Dense)             (None, 1)                 33        \n",
      "=================================================================\n",
      "Total params: 31,905\n",
      "Trainable params: 31,905\n",
      "Non-trainable params: 0\n",
      "_________________________________________________________________\n"
     ]
    }
   ],
   "source": [
    "def swish(x):\n",
    "    return (K.sigmoid(x) * x)\n",
    "\n",
    "get_custom_objects().update({'swish': Activation(swish)})\n",
    "\n",
    "model = Sequential()\n",
    "model.add(LSTM(64, activation='swish', input_shape=(X_train['IBM'].shape[1], X_train['IBM'].shape[2]), return_sequences=True))\n",
    "model.add(LSTM(32, activation='swish', return_sequences=False))\n",
    "model.add(Activation('tanh'))\n",
    "model.add(Dropout(0.2))\n",
    "model.add(Dense(y_train['IBM'].shape[1]))\n",
    "\n",
    "model.compile(optimizer='adam', loss='mse')\n",
    "model.summary()"
   ]
  },
  {
   "cell_type": "code",
   "execution_count": null,
   "metadata": {
    "scrolled": true
   },
   "outputs": [
    {
     "name": "stdout",
     "output_type": "stream",
     "text": [
      "IBM\n"
     ]
    }
   ],
   "source": [
    "history = {}\n",
    "for symbol in stock_dataframes:\n",
    "    print(symbol)\n",
    "    history[symbol] = model.fit(X_train[symbol], y_train[symbol], epochs=20, batch_size=64, validation_split=0.15, verbose=0)"
   ]
  },
  {
   "cell_type": "code",
   "execution_count": null,
   "metadata": {},
   "outputs": [],
   "source": [
    "plt.plot(history['IBM'].history['loss'], label='Training Loss')\n",
    "plt.plot(history['IBM'].history['val_loss'], label='Validation Loss')\n",
    "plt.legend()"
   ]
  },
  {
   "cell_type": "code",
   "execution_count": null,
   "metadata": {},
   "outputs": [],
   "source": [
    "plt.plot(history['GOOG'].history['loss'], label='Training Loss')\n",
    "plt.plot(history['GOOG'].history['val_loss'], label='Validation Loss')\n",
    "plt.legend()"
   ]
  },
  {
   "cell_type": "code",
   "execution_count": null,
   "metadata": {},
   "outputs": [],
   "source": [
    "plt.plot(history['NFLX'].history['loss'], label='Training Loss')\n",
    "plt.plot(history['NFLX'].history['val_loss'], label='Validation Loss')\n",
    "plt.legend()"
   ]
  },
  {
   "cell_type": "code",
   "execution_count": null,
   "metadata": {},
   "outputs": [],
   "source": [
    "plt.plot(history['AMZN'].history['loss'], label='Training Loss')\n",
    "plt.plot(history['AMZN'].history['val_loss'], label='Validation Loss')\n",
    "plt.legend()"
   ]
  },
  {
   "cell_type": "code",
   "execution_count": null,
   "metadata": {},
   "outputs": [],
   "source": [
    "plt.plot(history['AAPL'].history['loss'], label='Training Loss')\n",
    "plt.plot(history['AAPL'].history['val_loss'], label='Validation Loss')\n",
    "plt.legend()"
   ]
  },
  {
   "cell_type": "code",
   "execution_count": null,
   "metadata": {},
   "outputs": [],
   "source": [
    "plt.plot(history['MSFT'].history['loss'], label='Training Loss')\n",
    "plt.plot(history['MSFT'].history['val_loss'], label='Validation Loss')\n",
    "plt.legend()"
   ]
  },
  {
   "cell_type": "code",
   "execution_count": null,
   "metadata": {},
   "outputs": [],
   "source": [
    "plt.plot(history['TSLA'].history['loss'], label='Training Loss')\n",
    "plt.plot(history['TSLA'].history['val_loss'], label='Validation Loss')\n",
    "plt.legend()"
   ]
  },
  {
   "cell_type": "code",
   "execution_count": null,
   "metadata": {},
   "outputs": [],
   "source": [
    "plt.plot(history['NVDA'].history['loss'], label='Training Loss')\n",
    "plt.plot(history['NVDA'].history['val_loss'], label='Validation Loss')\n",
    "plt.legend()"
   ]
  },
  {
   "cell_type": "code",
   "execution_count": null,
   "metadata": {},
   "outputs": [],
   "source": [
    "plt.plot(history['ADBE'].history['loss'], label='Training Loss')\n",
    "plt.plot(history['ADBE'].history['val_loss'], label='Validation Loss')\n",
    "plt.legend()"
   ]
  },
  {
   "cell_type": "code",
   "execution_count": null,
   "metadata": {},
   "outputs": [],
   "source": [
    "plt.plot(history['INTC'].history['loss'], label='Training Loss')\n",
    "plt.plot(history['INTC'].history['val_loss'], label='Validation Loss')\n",
    "plt.legend()"
   ]
  },
  {
   "cell_type": "code",
   "execution_count": null,
   "metadata": {},
   "outputs": [],
   "source": [
    "_, accuracy = model.evaluate(X, y, verbose=0)"
   ]
  }
 ],
 "metadata": {
  "kernelspec": {
   "display_name": "Python 3",
   "language": "python",
   "name": "python3"
  },
  "language_info": {
   "codemirror_mode": {
    "name": "ipython",
    "version": 3
   },
   "file_extension": ".py",
   "mimetype": "text/x-python",
   "name": "python",
   "nbconvert_exporter": "python",
   "pygments_lexer": "ipython3",
   "version": "3.9.0"
  }
 },
 "nbformat": 4,
 "nbformat_minor": 4
}
